{
 "cells": [
  {
   "cell_type": "markdown",
   "id": "d92db412-2597-4805-9690-07b7c17ff159",
   "metadata": {},
   "source": [
    "Soru 1"
   ]
  },
  {
   "cell_type": "code",
   "execution_count": 1,
   "id": "ef640436-1ed0-4828-9820-9a314b1850a9",
   "metadata": {},
   "outputs": [
    {
     "name": "stdin",
     "output_type": "stream",
     "text": [
      "Bir sayı giriniz:  15\n"
     ]
    },
    {
     "name": "stdout",
     "output_type": "stream",
     "text": [
      "Pozitif Tek\n"
     ]
    }
   ],
   "source": [
    "sayi = int(input(\"Bir sayı giriniz: \"))\n",
    "\n",
    "if sayi > 0:\n",
    "    print(\"Pozitif\", end =\" \")\n",
    "elif sayi < 0:\n",
    "    print(\"Negatif\", end =\" \")\n",
    "else:\n",
    "    print(\"Sıfır\", end =\" \")\n",
    "\n",
    "if sayi % 2 == 0:\n",
    "    print(\"Çift\")\n",
    "else:\n",
    "    print(\"Tek\")"
   ]
  },
  {
   "cell_type": "markdown",
   "id": "ec233bb9-6d39-48f4-a584-1b09041d6a0e",
   "metadata": {},
   "source": [
    "Soru 2"
   ]
  },
  {
   "cell_type": "code",
   "execution_count": 2,
   "id": "84e8b1c6-4889-4b86-8204-2d545f812619",
   "metadata": {},
   "outputs": [
    {
     "name": "stdin",
     "output_type": "stream",
     "text": [
      "Bir kelime giriniz:  kayak\n"
     ]
    },
    {
     "name": "stdout",
     "output_type": "stream",
     "text": [
      "{'k': 2, 'a': 2, 'y': 1}\n"
     ]
    }
   ],
   "source": [
    "kelime = input(\"Bir kelime giriniz: \")\n",
    "harf_sayilari = {}\n",
    "\n",
    "for harf in kelime:\n",
    "    if harf in harf_sayilari:\n",
    "        harf_sayilari[harf] += 1\n",
    "    else:\n",
    "        harf_sayilari[harf] = 1\n",
    "\n",
    "print(harf_sayilari)"
   ]
  },
  {
   "cell_type": "markdown",
   "id": "4dcfd962-453d-4dec-9b2d-0f5a598e2090",
   "metadata": {},
   "source": [
    "Soru 3"
   ]
  },
  {
   "cell_type": "code",
   "execution_count": 3,
   "id": "82ab7774-2627-4bb4-8708-20218cdd6031",
   "metadata": {},
   "outputs": [
    {
     "name": "stdin",
     "output_type": "stream",
     "text": [
      "Bir sifre giriniz:  hjHJx454\n"
     ]
    },
    {
     "name": "stdout",
     "output_type": "stream",
     "text": [
      "Şifreniz oluşturulmuştur\n"
     ]
    }
   ],
   "source": [
    "sifre = input(\"Bir sifre giriniz: \")\n",
    "\n",
    "if len(sifre) < 8:\n",
    "    print(\"Şifre en az 8 karekter olmalı\")\n",
    "else:\n",
    "    kontrol = False\n",
    "    for harf in sifre:\n",
    "        if harf.isupper():\n",
    "            kontrol = True\n",
    "            break\n",
    "    if not kontrol:\n",
    "        print(\"En az bir büyük karekter olmalı\")\n",
    "    else:\n",
    "        kontrol = False\n",
    "        for harf in sifre:\n",
    "            if harf.isnumeric():\n",
    "                kontrol = True\n",
    "                break\n",
    "\n",
    "        if not kontrol:\n",
    "            print(\"En az bir sayısal değer içermeli\")\n",
    "        else:\n",
    "            print(\"Şifreniz oluşturulmuştur\")"
   ]
  },
  {
   "cell_type": "markdown",
   "id": "58bd0486-41b2-4a15-99c2-e7118bfbf06a",
   "metadata": {},
   "source": [
    "Soru 4"
   ]
  },
  {
   "cell_type": "code",
   "execution_count": 4,
   "id": "40b256c3-fdfb-47da-8a9e-be9f917514d6",
   "metadata": {},
   "outputs": [
    {
     "name": "stdout",
     "output_type": "stream",
     "text": [
      "Ortalama =  15.0\n",
      "Liste =  [25, 30, 18]\n"
     ]
    }
   ],
   "source": [
    "liste = [12,4,9,25,30,7,18]\n",
    "toplam = 0\n",
    "ort = 0\n",
    "buyuk_liste = []\n",
    "\n",
    "for num in liste:\n",
    "    toplam += num\n",
    "ort = toplam / len(liste)\n",
    "\n",
    "for num in liste:\n",
    "    if num > ort:\n",
    "        buyuk_liste.append(num)\n",
    "\n",
    "print(\"Ortalama = \", ort)\n",
    "print(\"Liste = \", buyuk_liste)"
   ]
  },
  {
   "cell_type": "markdown",
   "id": "e6737bf9-d117-4992-bd59-f4d99b6ec188",
   "metadata": {},
   "source": [
    "Soru 5"
   ]
  },
  {
   "cell_type": "code",
   "execution_count": 5,
   "id": "a916f683-9234-4a17-aa56-94c23db20e56",
   "metadata": {},
   "outputs": [
    {
     "name": "stdin",
     "output_type": "stream",
     "text": [
      "Bir boyutin giriniz:  25\n"
     ]
    },
    {
     "name": "stdout",
     "output_type": "stream",
     "text": [
      "*\n",
      "**\n",
      "***\n",
      "****\n",
      "*****\n",
      "******\n",
      "*******\n",
      "********\n",
      "*********\n",
      "**********\n",
      "***********\n",
      "************\n",
      "*************\n",
      "**************\n",
      "***************\n",
      "****************\n",
      "*****************\n",
      "******************\n",
      "*******************\n",
      "********************\n",
      "*********************\n",
      "**********************\n",
      "***********************\n",
      "************************\n",
      "*************************\n"
     ]
    }
   ],
   "source": [
    "boyut = int(input(\"Bir boyutin giriniz: \"))\n",
    "\n",
    "for i in range(boyut):\n",
    "    tur = i + 1\n",
    "    yazi = \"\"\n",
    "    for j in range(tur):\n",
    "        yazi += \"*\"\n",
    "    print(yazi)"
   ]
  },
  {
   "cell_type": "markdown",
   "id": "7656f912-7cb6-4630-babc-87560bb466be",
   "metadata": {},
   "source": [
    "Soru 6"
   ]
  },
  {
   "cell_type": "code",
   "execution_count": 6,
   "id": "f0108097-e278-41e1-996a-d7b56a6cc657",
   "metadata": {},
   "outputs": [
    {
     "name": "stdin",
     "output_type": "stream",
     "text": [
      "Bir sayı giriniz (0 girerseniz bitirir):  15\n",
      "Bir sayı giriniz (0 girerseniz bitirir):  20\n",
      "Bir sayı giriniz (0 girerseniz bitirir):  25\n",
      "Bir sayı giriniz (0 girerseniz bitirir):  30\n",
      "Bir sayı giriniz (0 girerseniz bitirir):  35\n",
      "Bir sayı giriniz (0 girerseniz bitirir):  40\n",
      "Bir sayı giriniz (0 girerseniz bitirir):  0\n"
     ]
    },
    {
     "name": "stdout",
     "output_type": "stream",
     "text": [
      "Toplam =  165\n",
      "Ortalama =  27.5\n"
     ]
    }
   ],
   "source": [
    "toplam = 0\n",
    "ortalama = 0\n",
    "tur = 0\n",
    "while True:\n",
    "    girdi = int(input(\"Bir sayı giriniz (0 girerseniz bitirir): \"))\n",
    "\n",
    "    if girdi == 0:\n",
    "        break\n",
    "    else:\n",
    "        toplam += girdi\n",
    "        tur += 1\n",
    "\n",
    "ortalama = toplam / tur\n",
    "print(\"Toplam = \", toplam)\n",
    "print(\"Ortalama = \", ortalama)"
   ]
  },
  {
   "cell_type": "markdown",
   "id": "0b4ab2eb-7bee-4e47-9623-a45f0d6f440f",
   "metadata": {},
   "source": [
    "Soru 7"
   ]
  },
  {
   "cell_type": "code",
   "execution_count": 7,
   "id": "ec9e9177-0eea-4c5a-bd80-4ff67c339672",
   "metadata": {},
   "outputs": [
    {
     "name": "stdin",
     "output_type": "stream",
     "text": [
      "Bir kelime giriniz:  KAYAK\n"
     ]
    },
    {
     "name": "stdout",
     "output_type": "stream",
     "text": [
      "Palindrom\n"
     ]
    }
   ],
   "source": [
    "kelime = input(\"Bir kelime giriniz: \")\n",
    "ters = kelime[::-1]\n",
    "if kelime == ters:\n",
    "    print(\"Palindrom\")\n",
    "else:\n",
    "    print(\"Değil\")"
   ]
  },
  {
   "cell_type": "markdown",
   "id": "beccf119-99ad-4094-84a0-47ed1939b1a7",
   "metadata": {},
   "source": [
    "Soru 8 "
   ]
  },
  {
   "cell_type": "code",
   "execution_count": 8,
   "id": "2934df7f-27f1-4808-9f2b-d5b1219e75cf",
   "metadata": {},
   "outputs": [
    {
     "name": "stdout",
     "output_type": "stream",
     "text": [
      "[15, 30, 45, 60, 75, 90]\n"
     ]
    }
   ],
   "source": [
    "bolunenler = []\n",
    "\n",
    "for i in range(1,100):\n",
    "    if i % 3 == 0 and i % 5==0:\n",
    "        bolunenler.append(i)\n",
    "\n",
    "print(bolunenler)"
   ]
  },
  {
   "cell_type": "markdown",
   "id": "376da978-5137-4c03-96c2-42ad2879419d",
   "metadata": {},
   "source": [
    "Soru 9 "
   ]
  },
  {
   "cell_type": "code",
   "execution_count": 9,
   "id": "c9f2da3a-bf87-4ed6-9048-60ed164102e3",
   "metadata": {},
   "outputs": [
    {
     "name": "stdin",
     "output_type": "stream",
     "text": [
      "Bir cumle giriniz:  Python veri bilimi\n"
     ]
    },
    {
     "name": "stdout",
     "output_type": "stream",
     "text": [
      " Python Veri Bilimi\n"
     ]
    }
   ],
   "source": [
    "cumle = input(\"Bir cumle giriniz: \")\n",
    "cikti = \"\"\n",
    "kelimeler = cumle.split(\" \")\n",
    "\n",
    "for kelime in kelimeler:\n",
    "    cikti += (\" \" + kelime.capitalize())\n",
    "\n",
    "print(cikti)\n"
   ]
  },
  {
   "cell_type": "markdown",
   "id": "c78ebe83-dc49-49eb-a4c1-fa5c1cd3e80d",
   "metadata": {},
   "source": [
    "Mini Proje Film Yorum Analizi"
   ]
  },
  {
   "cell_type": "code",
   "execution_count": 10,
   "id": "a81caf15-0369-47e1-a071-1f593e0c084d",
   "metadata": {},
   "outputs": [
    {
     "name": "stdin",
     "output_type": "stream",
     "text": [
      "Bir yorum giriniz (0 ile çıkış yapar):  Film çok güzeldi\n",
      "Bir yorum giriniz (0 ile çıkış yapar):  Kötüydü\n",
      "Bir yorum giriniz (0 ile çıkış yapar):  Ortalama bir filmdi\n",
      "Bir yorum giriniz (0 ile çıkış yapar):  Gerçekten çok iyi!\n",
      "Bir yorum giriniz (0 ile çıkış yapar):  İyi ama daha iyi olabilirdi\n",
      "Bir yorum giriniz (0 ile çıkış yapar):  0\n"
     ]
    },
    {
     "name": "stdout",
     "output_type": "stream",
     "text": [
      "Toplam yorum sayısı:  5\n",
      "\"iyi\" geçen yorum sayısı:  2\n",
      "En uzun yorum:  İyi ama daha iyi olabilirdi\n",
      "En kısa yorum:  Kötüydü\n",
      "Ortalama uzunluk:  17.4 karekter \n"
     ]
    }
   ],
   "source": [
    "yorumlar = []\n",
    "uzunluklar = []\n",
    "\n",
    "\n",
    "while True:\n",
    "    girdi = input(\"Bir yorum giriniz (0 ile çıkış yapar): \")\n",
    "\n",
    "    if girdi == \"0\":\n",
    "        break\n",
    "\n",
    "    yorumlar.append(girdi)\n",
    "    uzunluklar.append(len(girdi))\n",
    "\n",
    "olumlu_yorum_say = 0\n",
    "\n",
    "for yorum in yorumlar:\n",
    "    for kelime in yorum.split(\" \"):\n",
    "        if kelime.lower().find(\"iyi\") >= 0:\n",
    "            olumlu_yorum_say += 1\n",
    "            break\n",
    "\n",
    "uzun_yorum = yorumlar[0]\n",
    "kisa_yorum = yorumlar[0]\n",
    "uzun_konum = 0\n",
    "kisa_konum = 0\n",
    "\n",
    "for konum in range(1,len(uzunluklar)):\n",
    "    if uzunluklar[konum] > uzunluklar[uzun_konum]:\n",
    "        uzun_yorum = yorumlar[konum]\n",
    "        uzun_konum = konum\n",
    "\n",
    "    if uzunluklar[konum] < uzunluklar[kisa_konum]:\n",
    "        kisa_yorum = yorumlar[konum]\n",
    "        kisa_konum = konum\n",
    "\n",
    "toplam = 0\n",
    "ort = 0\n",
    "\n",
    "for uzuluk in uzunluklar:\n",
    "    toplam += uzuluk\n",
    "\n",
    "ort = toplam / len(uzunluklar)\n",
    "\n",
    "print(\"Toplam yorum sayısı: \", len(uzunluklar))\n",
    "print(\"\\\"iyi\\\" geçen yorum sayısı: \", olumlu_yorum_say)\n",
    "print(\"En uzun yorum: \", uzun_yorum)\n",
    "print(\"En kısa yorum: \", kisa_yorum)\n",
    "print(\"Ortalama uzunluk: \", ort, \"karekter \")"
   ]
  },
  {
   "cell_type": "code",
   "execution_count": null,
   "id": "a42eb850-0200-42a0-a0b6-89f0215794eb",
   "metadata": {},
   "outputs": [],
   "source": []
  }
 ],
 "metadata": {
  "kernelspec": {
   "display_name": "Python [conda env:base] *",
   "language": "python",
   "name": "conda-base-py"
  },
  "language_info": {
   "codemirror_mode": {
    "name": "ipython",
    "version": 3
   },
   "file_extension": ".py",
   "mimetype": "text/x-python",
   "name": "python",
   "nbconvert_exporter": "python",
   "pygments_lexer": "ipython3",
   "version": "3.13.5"
  }
 },
 "nbformat": 4,
 "nbformat_minor": 5
}
