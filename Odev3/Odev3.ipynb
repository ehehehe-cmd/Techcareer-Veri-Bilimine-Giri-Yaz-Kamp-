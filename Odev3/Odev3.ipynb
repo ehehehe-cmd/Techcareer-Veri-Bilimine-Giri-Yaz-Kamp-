{
 "cells": [
  {
   "cell_type": "markdown",
   "id": "de39b9cb",
   "metadata": {},
   "source": [
    "Soru 1"
   ]
  },
  {
   "cell_type": "code",
   "execution_count": 50,
   "id": "09a121d4",
   "metadata": {},
   "outputs": [
    {
     "name": "stdout",
     "output_type": "stream",
     "text": [
      "En düşük not:  76 , En yüksek not:  100\n"
     ]
    }
   ],
   "source": [
    "notlar = [85, 92, 76, 92, 100, 76, 85, 92]\n",
    "\n",
    "benzersiz = list(dict.fromkeys(notlar))\n",
    "benzersiz.sort()\n",
    "\n",
    "print(\"En düşük not: \" , benzersiz[0] , \", En yüksek not: \" , benzersiz[-1])"
   ]
  },
  {
   "cell_type": "markdown",
   "id": "0f02acba",
   "metadata": {},
   "source": [
    "Soru 2"
   ]
  },
  {
   "cell_type": "code",
   "execution_count": 51,
   "id": "41d67cae",
   "metadata": {},
   "outputs": [
    {
     "name": "stdout",
     "output_type": "stream",
     "text": [
      "True\n",
      "False\n"
     ]
    }
   ],
   "source": [
    "def Armstrong_num (sayi):\n",
    "    toplam = 0\n",
    "\n",
    "    for i in str(sayi):\n",
    "        toplam = toplam + pow(int(i),3)\n",
    "\n",
    "    if toplam == sayi:\n",
    "        return True\n",
    "    else:\n",
    "        return False\n",
    "\n",
    "\n",
    "num  = 153\n",
    "num2 = 11\n",
    "\n",
    "print(Armstrong_num(num))\n",
    "print(Armstrong_num(num2))"
   ]
  },
  {
   "cell_type": "markdown",
   "id": "f754fe30",
   "metadata": {},
   "source": [
    "Soru 3"
   ]
  },
  {
   "cell_type": "code",
   "execution_count": 52,
   "id": "7820bc76",
   "metadata": {},
   "outputs": [
    {
     "name": "stdout",
     "output_type": "stream",
     "text": [
      "{'Python', 'SQL'}\n",
      "{'Java', 'R'}\n",
      "['C++', 'Java', 'JavaScript', 'Python', 'R', 'SQL']\n"
     ]
    }
   ],
   "source": [
    "A = {\"Python\", \"R\", \"SQL\", \"Java\"} \n",
    "B = {\"C++\", \"Python\", \"JavaScript\", \"SQL\"}\n",
    "\n",
    "print(A & B)\n",
    "print(A - B)\n",
    "print(sorted(A | B))"
   ]
  },
  {
   "cell_type": "markdown",
   "id": "ec8923f7",
   "metadata": {},
   "source": [
    "Soru 4"
   ]
  },
  {
   "cell_type": "code",
   "execution_count": 53,
   "id": "54e9b5ea",
   "metadata": {},
   "outputs": [
    {
     "name": "stdout",
     "output_type": "stream",
     "text": [
      "Ortalama:  45.888888888888886\n",
      "Standart Sapma:  34.05673371172155\n"
     ]
    }
   ],
   "source": [
    "import random\n",
    "import statistics\n",
    "\n",
    "liste = []\n",
    "\n",
    "for i in range(9):\n",
    "    liste.append(int(random.random()*100))\n",
    "\n",
    "print(\"Ortalama: \" , statistics.mean(liste))\n",
    "print(\"Standart Sapma: \" , statistics.stdev(liste))"
   ]
  },
  {
   "cell_type": "markdown",
   "id": "7d3b77f9",
   "metadata": {},
   "source": [
    "Soru 5"
   ]
  },
  {
   "cell_type": "code",
   "execution_count": 54,
   "id": "000f429b",
   "metadata": {},
   "outputs": [
    {
     "name": "stdout",
     "output_type": "stream",
     "text": [
      "Toplam kelime sayisi:  10\n",
      "En uzun kelime:  salatalık\n",
      "En çok geçen kelime:  elma\n"
     ]
    }
   ],
   "source": [
    "def kelime_sayaci(metin):\n",
    "    kelime = metin.split(\" \")\n",
    "\n",
    "    print(\"Toplam kelime sayisi: \" , len(kelime))\n",
    "    print(\"En uzun kelime: \" , max(kelime, key = len))\n",
    "    print(\"En çok geçen kelime: \" , statistics.mode(kelime))\n",
    "\n",
    "\n",
    "\n",
    "kelime_sayaci(\"patates elma elma armut şeftali karpuz havuç salatalık armut elma\")\n"
   ]
  },
  {
   "cell_type": "markdown",
   "id": "dd245fe9",
   "metadata": {},
   "source": [
    "Soru 6"
   ]
  },
  {
   "cell_type": "code",
   "execution_count": 55,
   "id": "684fc897",
   "metadata": {},
   "outputs": [
    {
     "name": "stdout",
     "output_type": "stream",
     "text": [
      "Çiftler:  [12, 18, 24, 16]\n",
      "Kareleri:  [25, 144, 49, 324, 576, 9, 256]\n",
      "Sıralı:  [24, 18, 16, 12, 7, 5, 3]\n"
     ]
    }
   ],
   "source": [
    "sayilar = [5, 12, 7, 18, 24, 3, 16]\n",
    "\n",
    "filtre = list(filter(lambda num: num%2 == 0, sayilar))\n",
    "kare =list(map(lambda num : num ** 2, sayilar))\n",
    "\n",
    "print(\"Çiftler: \" , filtre)\n",
    "print(\"Kareleri: \" , kare)\n",
    "print(\"Sıralı: \" , sorted(sayilar , reverse=True))"
   ]
  },
  {
   "cell_type": "markdown",
   "id": "c37bc528",
   "metadata": {},
   "source": [
    "Soru 7"
   ]
  },
  {
   "cell_type": "code",
   "execution_count": 56,
   "id": "75d8440c",
   "metadata": {},
   "outputs": [
    {
     "name": "stdout",
     "output_type": "stream",
     "text": [
      "['veri', 'bilim', 'analiz', 'python', 'yapayzeka']\n"
     ]
    }
   ],
   "source": [
    "kelimeler = [\"veri\", \"bilim\", \"analiz\", \"yapayzeka\", \"python\"]\n",
    "\n",
    "sirali = sorted(kelimeler, key=lambda kelime: len(kelime))\n",
    "\n",
    "print(sirali)"
   ]
  },
  {
   "cell_type": "markdown",
   "id": "ee740661",
   "metadata": {},
   "source": [
    "Soru 8"
   ]
  },
  {
   "cell_type": "code",
   "execution_count": 57,
   "id": "da4da344",
   "metadata": {},
   "outputs": [
    {
     "name": "stdout",
     "output_type": "stream",
     "text": [
      "15\n"
     ]
    }
   ],
   "source": [
    "karekter = \"abc12def3\"\n",
    "\n",
    "def sayi_bulma(karekterler):\n",
    "    char = \"\"\n",
    "\n",
    "    for harf in karekterler:\n",
    "        if harf.isnumeric():\n",
    "            char += harf\n",
    "        else:\n",
    "            char += \" \"\n",
    "    \n",
    "    sayilar = char.split()\n",
    "    toplam = 0\n",
    "\n",
    "    for sayi in sayilar:\n",
    "        toplam += int(sayi)\n",
    "    \n",
    "    print(toplam)\n",
    "\n",
    "sayi_bulma(karekter)"
   ]
  },
  {
   "cell_type": "markdown",
   "id": "72bbbab4",
   "metadata": {},
   "source": [
    "Soru 9"
   ]
  },
  {
   "cell_type": "code",
   "execution_count": 58,
   "id": "95f87354",
   "metadata": {},
   "outputs": [
    {
     "name": "stdout",
     "output_type": "stream",
     "text": [
      "Dizi: [22 48 16 46 11 15 30 39 13 38]\n"
     ]
    }
   ],
   "source": [
    "import numpy as np\n",
    "\n",
    "dizi = np.random.randint(0, 51, 10)\n",
    "print(\"Dizi:\", dizi)\n",
    "\n",
    "ortalama = np.mean(dizi)\n",
    "\n",
    "std = np.std(dizi)\n",
    "\n"
   ]
  },
  {
   "cell_type": "markdown",
   "id": "4296b769",
   "metadata": {},
   "source": [
    "Soru 10"
   ]
  },
  {
   "cell_type": "code",
   "execution_count": null,
   "id": "864f2fe4",
   "metadata": {},
   "outputs": [
    {
     "name": "stdout",
     "output_type": "stream",
     "text": [
      "Asıl matris:\n",
      " [[0.40987481 0.53063491 0.00292249 0.92576816 0.84542187]\n",
      " [0.25089715 0.34958935 0.70627644 0.1882807  0.88031629]\n",
      " [0.74020067 0.49418494 0.966964   0.32811263 0.75533293]\n",
      " [0.62473062 0.46632677 0.44652307 0.94253773 0.70708049]\n",
      " [0.1165574  0.98594375 0.88611702 0.9553852  0.36021656]]\n",
      "\n",
      "Sütun Ortalamaları:\n",
      " [0.42845213 0.56533594 0.6017606  0.66801689 0.70967363]\n",
      "\n",
      "Binary Matris:\n",
      " [[0 1 0 1 1]\n",
      " [0 0 1 0 1]\n",
      " [1 0 1 0 1]\n",
      " [1 0 0 1 1]\n",
      " [0 1 1 1 0]]\n"
     ]
    }
   ],
   "source": [
    "matris = np.random.rand(5,5)\n",
    "print(\"Asıl matris:\\n\" , matris)\n",
    "\n",
    "sutun_ort = np.mean(matris,axis=0) \n",
    "print(\"\\nSütun Ortalamaları:\\n\", sutun_ort)\n",
    "\n",
    "yeni_matris = (matris > 0.5).astype(int)\n",
    "print(\"\\nBinary Matris:\\n\", yeni_matris)\n"
   ]
  }
 ],
 "metadata": {
  "kernelspec": {
   "display_name": "base",
   "language": "python",
   "name": "python3"
  },
  "language_info": {
   "codemirror_mode": {
    "name": "ipython",
    "version": 3
   },
   "file_extension": ".py",
   "mimetype": "text/x-python",
   "name": "python",
   "nbconvert_exporter": "python",
   "pygments_lexer": "ipython3",
   "version": "3.13.5"
  }
 },
 "nbformat": 4,
 "nbformat_minor": 5
}
